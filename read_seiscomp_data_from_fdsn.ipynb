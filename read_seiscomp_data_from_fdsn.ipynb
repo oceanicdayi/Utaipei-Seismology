{
 "cells": [
  {
   "cell_type": "code",
   "execution_count": 1,
   "metadata": {},
   "outputs": [],
   "source": [
    "from obspy.clients.fdsn import Client\n",
    "from obspy import UTCDateTime\n",
    "import numpy as np\n",
    "%matplotlib inline"
   ]
  },
  {
   "cell_type": "code",
   "execution_count": 2,
   "metadata": {},
   "outputs": [],
   "source": [
    "#0722"
   ]
  },
  {
   "cell_type": "code",
   "execution_count": 4,
   "metadata": {},
   "outputs": [],
   "source": [
    "client = Client(\"http://127.0.0.1:1001\")"
   ]
  },
  {
   "cell_type": "code",
   "execution_count": 5,
   "metadata": {},
   "outputs": [],
   "source": [
    "event_list=client.get_events()"
   ]
  },
  {
   "cell_type": "code",
   "execution_count": 6,
   "metadata": {},
   "outputs": [
    {
     "data": {
      "text/plain": [
       "2020-07-27T14:02:46.642553Z"
      ]
     },
     "execution_count": 6,
     "metadata": {},
     "output_type": "execute_result"
    }
   ],
   "source": [
    "event_list[1].origins[0].time"
   ]
  },
  {
   "cell_type": "code",
   "execution_count": 7,
   "metadata": {},
   "outputs": [],
   "source": [
    "event1=event_list[1]"
   ]
  },
  {
   "cell_type": "code",
   "execution_count": 8,
   "metadata": {},
   "outputs": [],
   "source": [
    "ori1=event1.origins[0]"
   ]
  },
  {
   "cell_type": "code",
   "execution_count": 9,
   "metadata": {},
   "outputs": [
    {
     "data": {
      "text/plain": [
       "2020-07-27T14:02:46.642553Z"
      ]
     },
     "execution_count": 9,
     "metadata": {},
     "output_type": "execute_result"
    }
   ],
   "source": [
    "ori1.time"
   ]
  },
  {
   "cell_type": "code",
   "execution_count": 10,
   "metadata": {},
   "outputs": [],
   "source": [
    "st1 = client.get_waveforms(\"CX\",\"*\",\"*\",\"HHZ\",ori1.time,ori1.time+120)"
   ]
  },
  {
   "cell_type": "code",
   "execution_count": 11,
   "metadata": {},
   "outputs": [
    {
     "data": {
      "text/plain": [
       "14 Trace(s) in Stream:\n",
       "CX.PB11..HHZ  | 2020-07-27T14:02:46.640001Z - 2020-07-27T14:04:46.640001Z | 100.0 Hz, 12001 samples\n",
       "CX.PB12..HHZ  | 2020-07-27T14:02:46.640000Z - 2020-07-27T14:04:46.640000Z | 100.0 Hz, 12001 samples\n",
       "CX.PB14..HHZ  | 2020-07-27T14:02:46.640000Z - 2020-07-27T14:04:46.640000Z | 100.0 Hz, 12001 samples\n",
       "CX.PSGCX..HHZ | 2020-07-27T14:02:46.640000Z - 2020-07-27T14:04:46.640000Z | 100.0 Hz, 12001 samples\n",
       "CX.PB07..HHZ  | 2020-07-27T14:02:46.640000Z - 2020-07-27T14:04:46.640000Z | 100.0 Hz, 12001 samples\n",
       "CX.PB19..HHZ  | 2020-07-27T14:02:46.640000Z - 2020-07-27T14:04:46.640000Z | 100.0 Hz, 12001 samples\n",
       "CX.PB18..HHZ  | 2020-07-27T14:02:46.640000Z - 2020-07-27T14:04:46.640000Z | 100.0 Hz, 12001 samples\n",
       "CX.PB16..HHZ  | 2020-07-27T14:02:46.640000Z - 2020-07-27T14:04:46.640000Z | 100.0 Hz, 12001 samples\n",
       "CX.PB06..HHZ  | 2020-07-27T14:02:46.638393Z - 2020-07-27T14:04:46.638393Z | 100.0 Hz, 12001 samples\n",
       "CX.PB05..HHZ  | 2020-07-27T14:02:46.638391Z - 2020-07-27T14:04:46.638391Z | 100.0 Hz, 12001 samples\n",
       "CX.PB02..HHZ  | 2020-07-27T14:02:46.638393Z - 2020-07-27T14:04:46.638393Z | 100.0 Hz, 12001 samples\n",
       "CX.PB03..HHZ  | 2020-07-27T14:02:46.638393Z - 2020-07-27T14:04:46.638393Z | 100.0 Hz, 12001 samples\n",
       "CX.PB08..HHZ  | 2020-07-27T14:02:46.638393Z - 2020-07-27T14:04:46.638393Z | 100.0 Hz, 12001 samples\n",
       "CX.PB09..HHZ  | 2020-07-27T14:02:46.640000Z - 2020-07-27T14:04:46.640000Z | 100.0 Hz, 12001 samples"
      ]
     },
     "execution_count": 11,
     "metadata": {},
     "output_type": "execute_result"
    }
   ],
   "source": [
    "st1"
   ]
  },
  {
   "cell_type": "code",
   "execution_count": 11,
   "metadata": {},
   "outputs": [],
   "source": [
    "for i in st1:\n",
    "    fname=i.get_id()+\".png\"\n",
    "    i.plot(outfile=fname,format=\"png\")\n"
   ]
  },
  {
   "cell_type": "code",
   "execution_count": 16,
   "metadata": {},
   "outputs": [],
   "source": [
    "dt = st1[0].stats.starttime"
   ]
  },
  {
   "cell_type": "code",
   "execution_count": 22,
   "metadata": {},
   "outputs": [
    {
     "data": {
      "text/plain": [
       "2020-07-16T14:38:12.730000Z"
      ]
     },
     "execution_count": 22,
     "metadata": {},
     "output_type": "execute_result"
    }
   ],
   "source": [
    "st1[0].stats.endtime"
   ]
  },
  {
   "cell_type": "code",
   "execution_count": 19,
   "metadata": {},
   "outputs": [],
   "source": [
    "fname=i.get_id()+\".png\"\n",
    "st1[0].slice(dt,dt+5).plot(outfile=fname,format=\"png\")"
   ]
  },
  {
   "cell_type": "code",
   "execution_count": 24,
   "metadata": {},
   "outputs": [],
   "source": [
    "dt = st1[0].stats.starttime\n",
    "ed = dt\n",
    "cc=0\n",
    "while True:\n",
    "    ed = ed + 5\n",
    "    fname=i.get_id()+\"_\"+str(cc)+\".png\"\n",
    "    \n",
    "    if ed > st1[0].stats.endtime:\n",
    "        break\n",
    "        \n",
    "    st1[0].slice(dt+cc*5,ed).plot(outfile=fname,format=\"png\")\n",
    "    cc = cc+1"
   ]
  },
  {
   "cell_type": "code",
   "execution_count": 25,
   "metadata": {},
   "outputs": [],
   "source": [
    "from PIL import Image"
   ]
  },
  {
   "cell_type": "code",
   "execution_count": 60,
   "metadata": {},
   "outputs": [],
   "source": [
    "im = Image.open('CX.PB09..HHZ_0.png')"
   ]
  },
  {
   "cell_type": "code",
   "execution_count": 61,
   "metadata": {},
   "outputs": [
    {
     "data": {
      "text/plain": [
       "(800, 250)"
      ]
     },
     "execution_count": 61,
     "metadata": {},
     "output_type": "execute_result"
    }
   ],
   "source": [
    "im.size"
   ]
  },
  {
   "cell_type": "code",
   "execution_count": 62,
   "metadata": {},
   "outputs": [
    {
     "data": {
      "text/plain": [
       "'PNG'"
      ]
     },
     "execution_count": 62,
     "metadata": {},
     "output_type": "execute_result"
    }
   ],
   "source": [
    "im.format"
   ]
  },
  {
   "cell_type": "code",
   "execution_count": 63,
   "metadata": {},
   "outputs": [
    {
     "data": {
      "text/plain": [
       "'RGBA'"
      ]
     },
     "execution_count": 63,
     "metadata": {},
     "output_type": "execute_result"
    }
   ],
   "source": [
    "im.mode"
   ]
  },
  {
   "cell_type": "code",
   "execution_count": 69,
   "metadata": {},
   "outputs": [
    {
     "data": {
      "image/png": "[encoded data removed]",
      "text/plain": [
       "<PIL.Image.Image image mode=L size=800x250 at 0x1A5077EDF48>"
      ]
     },
     "execution_count": 69,
     "metadata": {},
     "output_type": "execute_result"
    }
   ],
   "source": [
    "im"
   ]
  },
  {
   "cell_type": "code",
   "execution_count": 47,
   "metadata": {},
   "outputs": [],
   "source": [
    "aa=np.array(im.getdata())"
   ]
  },
  {
   "cell_type": "code",
   "execution_count": 51,
   "metadata": {},
   "outputs": [
    {
     "data": {
      "text/plain": [
       "(200000, 4)"
      ]
     },
     "execution_count": 51,
     "metadata": {},
     "output_type": "execute_result"
    }
   ],
   "source": [
    "aa.shape"
   ]
  },
  {
   "cell_type": "code",
   "execution_count": 52,
   "metadata": {},
   "outputs": [
    {
     "data": {
      "text/plain": [
       "200000"
      ]
     },
     "execution_count": 52,
     "metadata": {},
     "output_type": "execute_result"
    }
   ],
   "source": [
    "800*250"
   ]
  },
  {
   "cell_type": "code",
   "execution_count": null,
   "metadata": {},
   "outputs": [],
   "source": []
  }
 ],
 "metadata": {
  "kernelspec": {
   "display_name": "Python 3",
   "language": "python",
   "name": "python3"
  },
  "language_info": {
   "codemirror_mode": {
    "name": "ipython",
    "version": 3
   },
   "file_extension": ".py",
   "mimetype": "text/x-python",
   "name": "python",
   "nbconvert_exporter": "python",
   "pygments_lexer": "ipython3",
   "version": "3.7.6"
  }
 },
 "nbformat": 4,
 "nbformat_minor": 4
}
