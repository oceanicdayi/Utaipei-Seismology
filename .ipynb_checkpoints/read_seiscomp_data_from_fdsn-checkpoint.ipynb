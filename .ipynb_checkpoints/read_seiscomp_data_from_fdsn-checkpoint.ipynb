{
 "cells": [
  {
   "cell_type": "code",
   "execution_count": 3,
   "metadata": {},
   "outputs": [],
   "source": [
    "from obspy.clients.fdsn import Client\n",
    "from obspy import UTCDateTime\n",
    "%matplotlib inline"
   ]
  },
  {
   "cell_type": "code",
   "execution_count": null,
   "metadata": {},
   "outputs": [],
   "source": [
    "#0722"
   ]
  },
  {
   "cell_type": "code",
   "execution_count": 4,
   "metadata": {},
   "outputs": [],
   "source": [
    "client = Client(\"http://127.0.0.1:1001\")"
   ]
  },
  {
   "cell_type": "code",
   "execution_count": 5,
   "metadata": {},
   "outputs": [],
   "source": [
    "event_list=client.get_events()"
   ]
  },
  {
   "cell_type": "code",
   "execution_count": 6,
   "metadata": {},
   "outputs": [
    {
     "data": {
      "text/plain": [
       "2020-07-16T14:36:12.730965Z"
      ]
     },
     "execution_count": 6,
     "metadata": {},
     "output_type": "execute_result"
    }
   ],
   "source": [
    "event_list[1].origins[0].time"
   ]
  },
  {
   "cell_type": "code",
   "execution_count": 7,
   "metadata": {},
   "outputs": [],
   "source": [
    "event1=event_list[1]"
   ]
  },
  {
   "cell_type": "code",
   "execution_count": 8,
   "metadata": {},
   "outputs": [],
   "source": [
    "ori1=event1.origins[0]"
   ]
  },
  {
   "cell_type": "code",
   "execution_count": 9,
   "metadata": {},
   "outputs": [
    {
     "data": {
      "text/plain": [
       "2020-07-16T14:36:12.730965Z"
      ]
     },
     "execution_count": 9,
     "metadata": {},
     "output_type": "execute_result"
    }
   ],
   "source": [
    "ori1.time"
   ]
  },
  {
   "cell_type": "code",
   "execution_count": 13,
   "metadata": {},
   "outputs": [],
   "source": [
    "st1 = client.get_waveforms(\"CX\",\"*\",\"*\",\"HHZ\",ori1.time,ori1.time+120)"
   ]
  },
  {
   "cell_type": "code",
   "execution_count": 14,
   "metadata": {},
   "outputs": [
    {
     "data": {
      "text/plain": [
       "14 Trace(s) in Stream:\n",
       "CX.PB11..HHZ  | 2020-07-16T14:36:12.730000Z - 2020-07-16T14:38:12.730000Z | 100.0 Hz, 12001 samples\n",
       "CX.PB12..HHZ  | 2020-07-16T14:36:12.730000Z - 2020-07-16T14:38:12.730000Z | 100.0 Hz, 12001 samples\n",
       "CX.PB14..HHZ  | 2020-07-16T14:36:12.730000Z - 2020-07-16T14:38:12.730000Z | 100.0 Hz, 12001 samples\n",
       "CX.PSGCX..HHZ | 2020-07-16T14:36:12.730000Z - 2020-07-16T14:38:12.730000Z | 100.0 Hz, 12001 samples\n",
       "CX.PB07..HHZ  | 2020-07-16T14:36:12.730000Z - 2020-07-16T14:38:12.730000Z | 100.0 Hz, 12001 samples\n",
       "CX.PB19..HHZ  | 2020-07-16T14:36:12.730001Z - 2020-07-16T14:38:12.730001Z | 100.0 Hz, 12001 samples\n",
       "CX.PB18..HHZ  | 2020-07-16T14:36:12.730000Z - 2020-07-16T14:38:12.730000Z | 100.0 Hz, 12001 samples\n",
       "CX.PB16..HHZ  | 2020-07-16T14:36:12.730000Z - 2020-07-16T14:38:12.730000Z | 100.0 Hz, 12001 samples\n",
       "CX.PB06..HHZ  | 2020-07-16T14:36:12.728393Z - 2020-07-16T14:38:12.728393Z | 100.0 Hz, 12001 samples\n",
       "CX.PB05..HHZ  | 2020-07-16T14:36:12.728393Z - 2020-07-16T14:38:12.728393Z | 100.0 Hz, 12001 samples\n",
       "CX.PB02..HHZ  | 2020-07-16T14:36:12.728393Z - 2020-07-16T14:38:12.728393Z | 100.0 Hz, 12001 samples\n",
       "CX.PB03..HHZ  | 2020-07-16T14:36:12.728393Z - 2020-07-16T14:38:12.728393Z | 100.0 Hz, 12001 samples\n",
       "CX.PB08..HHZ  | 2020-07-16T14:36:12.728393Z - 2020-07-16T14:38:12.728393Z | 100.0 Hz, 12001 samples\n",
       "CX.PB09..HHZ  | 2020-07-16T14:36:12.730001Z - 2020-07-16T14:38:12.730001Z | 100.0 Hz, 12001 samples"
      ]
     },
     "execution_count": 14,
     "metadata": {},
     "output_type": "execute_result"
    }
   ],
   "source": [
    "st1"
   ]
  },
  {
   "cell_type": "code",
   "execution_count": 25,
   "metadata": {},
   "outputs": [],
   "source": [
    "for i in st1:\n",
    "    fname=i.get_id()+\".png\"\n",
    "    i.plot(outfile=fname,format=\"png\")\n"
   ]
  },
  {
   "cell_type": "code",
   "execution_count": null,
   "metadata": {},
   "outputs": [],
   "source": []
  }
 ],
 "metadata": {
  "kernelspec": {
   "display_name": "Python 3",
   "language": "python",
   "name": "python3"
  },
  "language_info": {
   "codemirror_mode": {
    "name": "ipython",
    "version": 3
   },
   "file_extension": ".py",
   "mimetype": "text/x-python",
   "name": "python",
   "nbconvert_exporter": "python",
   "pygments_lexer": "ipython3",
   "version": "3.7.6"
  }
 },
 "nbformat": 4,
 "nbformat_minor": 4
}
