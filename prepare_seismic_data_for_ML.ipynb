{
 "cells": [
  {
   "cell_type": "code",
   "execution_count": null,
   "metadata": {},
   "outputs": [],
   "source": [
    "from obspy.clients.fdsn import Client\n",
    "from obspy.clients.iris import Client as Client_iris\n",
    "from obspy import UTCDateTime\n",
    "import numpy as np\n",
    "from obspy.signal.trigger import classic_sta_lta\n",
    "from obspy.signal.trigger import plot_trigger\n",
    "%matplotlib inline"
   ]
  },
  {
   "cell_type": "code",
   "execution_count": null,
   "metadata": {},
   "outputs": [],
   "source": []
  },
  {
   "cell_type": "code",
   "execution_count": null,
   "metadata": {},
   "outputs": [],
   "source": [
    "# connect to server\n",
    "client = Client(\"http://127.0.0.1:1001\")\n",
    "# get events\n",
    "event_list=client.get_events()\n",
    "# get otimes\n",
    "ori1=event_list[1].origins[0].time\n",
    "# get_stations\n",
    "inv=client.get_stations(network=\"CX\",starttime=ori1)\n",
    "# get one station location\n",
    "slon=inv[0][0].longitude\n",
    "slat=inv[0][0].latitude\n",
    "inc=0\n",
    "for event in event_list:\n",
    "    # get epicenter\n",
    "    elon = event.origins[0].longitude\n",
    "    elat = event.origins[0].latitude\n",
    "    # get OT\n",
    "    ori=event.origins[0].time\n",
    "    # calculate distance\n",
    "    client1 = Client_iris()\n",
    "    result = client1.distaz(slat, slon, elat, elon)\n",
    "    print(result['distance'])\n",
    "    if result['distance'] > 200:\n",
    "        break\n",
    "    # get waveforms\n",
    "    st1 = client.get_waveforms(\"CX\",\"*\",\"*\",\"*\",ori,ori+120)\n",
    "    #print(st1)\n",
    "    \n",
    "    \n",
    "   # slice waveform and save picture \n",
    "    for tr in st1:\n",
    "        dt = tr.stats.starttime\n",
    "        ed = dt\n",
    "        cc=0\n",
    "        while True:\n",
    "            ed = ed + 5\n",
    "            fname=\".\\\\data\\\\P_\"+str(inc)+\".png\"\n",
    "    \n",
    "            if ed > tr.stats.endtime:\n",
    "                break\n",
    "        \n",
    "            tr.slice(dt+cc*5,ed).plot(outfile=fname,format=\"png\")\n",
    "            cc = cc + 1\n",
    "            inc = inc + 1"
   ]
  },
  {
   "cell_type": "code",
   "execution_count": null,
   "metadata": {},
   "outputs": [],
   "source": [
    "\n",
    "\n",
    "\n"
   ]
  },
  {
   "cell_type": "code",
   "execution_count": null,
   "metadata": {},
   "outputs": [],
   "source": []
  },
  {
   "cell_type": "code",
   "execution_count": null,
   "metadata": {},
   "outputs": [],
   "source": []
  },
  {
   "cell_type": "code",
   "execution_count": null,
   "metadata": {},
   "outputs": [],
   "source": [
    "from PIL import Image"
   ]
  },
  {
   "cell_type": "code",
   "execution_count": null,
   "metadata": {},
   "outputs": [],
   "source": [
    "im = Image.open('CX.PB09..HHZ_0.png')"
   ]
  },
  {
   "cell_type": "code",
   "execution_count": null,
   "metadata": {},
   "outputs": [],
   "source": [
    "im.size"
   ]
  },
  {
   "cell_type": "code",
   "execution_count": null,
   "metadata": {},
   "outputs": [],
   "source": [
    "im.format"
   ]
  },
  {
   "cell_type": "code",
   "execution_count": null,
   "metadata": {},
   "outputs": [],
   "source": [
    "im.mode"
   ]
  },
  {
   "cell_type": "code",
   "execution_count": null,
   "metadata": {},
   "outputs": [],
   "source": [
    "im"
   ]
  },
  {
   "cell_type": "code",
   "execution_count": null,
   "metadata": {},
   "outputs": [],
   "source": [
    "aa=np.array(im.getdata())"
   ]
  },
  {
   "cell_type": "code",
   "execution_count": null,
   "metadata": {},
   "outputs": [],
   "source": [
    "aa.shape"
   ]
  },
  {
   "cell_type": "code",
   "execution_count": null,
   "metadata": {},
   "outputs": [],
   "source": [
    "800*250"
   ]
  },
  {
   "cell_type": "code",
   "execution_count": null,
   "metadata": {},
   "outputs": [],
   "source": []
  }
 ],
 "metadata": {
  "kernelspec": {
   "display_name": "Python 3",
   "language": "python",
   "name": "python3"
  },
  "language_info": {
   "codemirror_mode": {
    "name": "ipython",
    "version": 3
   },
   "file_extension": ".py",
   "mimetype": "text/x-python",
   "name": "python",
   "nbconvert_exporter": "python",
   "pygments_lexer": "ipython3",
   "version": "3.7.6"
  }
 },
 "nbformat": 4,
 "nbformat_minor": 4
}
