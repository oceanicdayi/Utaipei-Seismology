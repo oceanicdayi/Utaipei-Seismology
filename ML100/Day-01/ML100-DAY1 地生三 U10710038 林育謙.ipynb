{
 "cells": [
  {
   "cell_type": "markdown",
   "metadata": {},
   "source": [
    "HW 1"
   ]
  },
  {
   "cell_type": "code",
   "execution_count": 2,
   "metadata": {},
   "outputs": [],
   "source": [
    "import numpy as np\n",
    "import matplotlib.pyplot as plt"
   ]
  },
  {
   "cell_type": "code",
   "execution_count": 26,
   "metadata": {},
   "outputs": [],
   "source": [
    "x_lin = np.linspace(0,10,11)"
   ]
  },
  {
   "cell_type": "code",
   "execution_count": 27,
   "metadata": {},
   "outputs": [],
   "source": [
    "y = (x_lin + np.random.randn(11) * 3) * w + b\n",
    "y_hat = x_lin * w + b"
   ]
  },
  {
   "cell_type": "code",
   "execution_count": 28,
   "metadata": {},
   "outputs": [],
   "source": [
    "def Mean_Square_Error(y,yp):\n",
    "    mse = MSE = sum((y - yp) * (y - yp)) / len(y)\n",
    "    return mse"
   ]
  },
  {
   "cell_type": "code",
   "execution_count": 31,
   "metadata": {},
   "outputs": [
    {
     "name": "stdout",
     "output_type": "stream",
     "text": [
      "The Mean absolute error is 94.873\n"
     ]
    }
   ],
   "source": [
    "MSE = Mean_Square_Error(y, y_hat)\n",
    "print(\"The Mean absolute error is %.3f\" % (MSE))"
   ]
  },
  {
   "cell_type": "markdown",
   "metadata": {},
   "source": [
    "HW 2"
   ]
  },
  {
   "cell_type": "raw",
   "metadata": {},
   "source": [
    "Global Wheat Detection\n",
    "\n",
    "1. 你選的這組資料為何重要\n",
    "--> 小麥為全球的重要糧食作物之一(雖然在臺灣不算是)\n",
    "\n",
    "2. 資料從何而來 (tips: 譬如提供者是誰、以什麼方式蒐集)\n",
    "-->  University of Saskatchewan \n",
    "-->  Global Wheat Head Dataset 全球小麥數據集\n",
    "\n",
    "3. 蒐集而來的資料型態為何\n",
    "--> CSV 檔\n",
    "\n",
    "4. 這組資料想解決的問題如何評估\n",
    "--> This competition is evaluated on the mean average precision"
   ]
  },
  {
   "cell_type": "markdown",
   "metadata": {},
   "source": [
    "HW3\n",
    "\n",
    "想像你經營一個自由載客車隊，你希望能透過數據分析以提升業績，請你思考並描述你如何規劃整體的分析/解決方案："
   ]
  },
  {
   "cell_type": "raw",
   "metadata": {},
   "source": [
    "1.核心問題為何 (tips：如何定義 「提升業績 & 你的假設」)\n",
    "\n",
    "--> 如何減少車輛未載客的時間, 加強車輛使用效率\n",
    "\n",
    "--> 減少內部成本, 如：油錢\n",
    "\n",
    "2.資料從何而來 (tips：哪些資料可能會對你想問的問題產生影響 & 資料如何蒐集)\n",
    "\n",
    "--> 市區的人潮分布圖(時間-地點)\n",
    "\n",
    "--> 各車輛過去的行車路線紀錄及活動區域\n",
    "\n",
    "3.蒐集而來的資料型態為何\n",
    "\n",
    "--> CSV檔案\n",
    "\n",
    "4.你要回答的問題，其如何評估 (tips：你的假設如何驗證)\n",
    "\n",
    "--> 觀察公司出車時間及地點是否與市區人朝分布圖相符合\n",
    "\n",
    "--> 觀察車輛的行車路線是否與兩地最佳路徑相徑\n"
   ]
  },
  {
   "cell_type": "code",
   "execution_count": null,
   "metadata": {},
   "outputs": [],
   "source": []
  }
 ],
 "metadata": {
  "kernelspec": {
   "display_name": "Python 3",
   "language": "python",
   "name": "python3"
  },
  "language_info": {
   "codemirror_mode": {
    "name": "ipython",
    "version": 3
   },
   "file_extension": ".py",
   "mimetype": "text/x-python",
   "name": "python",
   "nbconvert_exporter": "python",
   "pygments_lexer": "ipython3",
   "version": "3.7.3"
  }
 },
 "nbformat": 4,
 "nbformat_minor": 2
}
